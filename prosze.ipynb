{
 "cells": [
  {
   "cell_type": "code",
   "execution_count": 1,
   "metadata": {},
   "outputs": [
    {
     "name": "stdout",
     "output_type": "stream",
     "text": [
      "tensor([[ 8.2287,  8.5945, 92.3044, 94.3939]])\n"
     ]
    }
   ],
   "source": [
    "import json\n",
    "import torch\n",
    "from PIL import Image\n",
    "from torchvision.transforms import Resize\n",
    "from torchvision.transforms import ToTensor\n",
    "\n",
    "class TrainingDataset(torch.utils.data.Dataset):\n",
    "    def __init__(self, images, boxes):\n",
    "        self.images = images\n",
    "        self.boxes = boxes\n",
    "\n",
    "    def __len__(self):\n",
    "        return len(self.images)\n",
    "\n",
    "    def __getitem__(self, index):\n",
    "        image = self.images[index]\n",
    "        box = self.boxes[index]\n",
    "        return image, box\n",
    "\n",
    "# Wczytaj plik JSON\n",
    "with open('labelj.json') as f:\n",
    "    data = json.load(f)\n",
    "\n",
    "# Inicjalizuj listy dla danych\n",
    "images = []\n",
    "boxes = []\n",
    "\n",
    "# Przejdź przez każde zdjęcie w pliku JSON\n",
    "for item in data:\n",
    "    # Pobierz nazwę pliku\n",
    "    file_name = item['data']['image'].split('-')[-1]\n",
    "    \n",
    "    # Wczytaj obrazek przy użyciu PIL i zmień rozmiar na 3x600x1200\n",
    "    image_path = r'C:\\Users\\Boows\\Desktop\\sieci\\\\' + file_name  # Zmień odpowiednio ścieżkę do katalogu ze zdjęciami\n",
    "    image = Image.open(image_path)\n",
    "    \n",
    "    \n",
    "    transform = Resize((600, 1200))\n",
    "    to_tensor = ToTensor()\n",
    "    image = transform(image)\n",
    "    image = to_tensor(image)\n",
    "\n",
    "    images.append(image)\n",
    "\n",
    "    # Pobierz punkty z oznaczenia\n",
    "    points = item['annotations'][0]['result'][0]['value']['points']\n",
    "    \n",
    "    # Przekształć punkty na format xmin, ymin, xmax, ymax\n",
    "    xmin = min(point[0] for point in points)\n",
    "    ymin = min(point[1] for point in points)\n",
    "    xmax = max(point[0] for point in points)\n",
    "    ymax = max(point[1] for point in points)\n",
    "    box = torch.tensor([[xmin, ymin, xmax, ymax]])\n",
    "    boxes.append(box)\n",
    "\n",
    "# Utwórz instancję klasy TrainingDataset z prawdziwymi danymi\n",
    "dataset = TrainingDataset(images, boxes)\n",
    "print(boxes[0])\n"
   ]
  }
 ],
 "metadata": {
  "kernelspec": {
   "display_name": "Python 3",
   "language": "python",
   "name": "python3"
  },
  "language_info": {
   "codemirror_mode": {
    "name": "ipython",
    "version": 3
   },
   "file_extension": ".py",
   "mimetype": "text/x-python",
   "name": "python",
   "nbconvert_exporter": "python",
   "pygments_lexer": "ipython3",
   "version": "3.11.3"
  },
  "orig_nbformat": 4
 },
 "nbformat": 4,
 "nbformat_minor": 2
}
